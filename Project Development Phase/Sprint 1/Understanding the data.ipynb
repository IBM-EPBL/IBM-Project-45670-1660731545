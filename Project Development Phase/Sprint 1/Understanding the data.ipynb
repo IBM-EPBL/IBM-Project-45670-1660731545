{
  "nbformat": 4,
  "nbformat_minor": 0,
  "metadata": {
    "colab": {
      "provenance": [],
      "collapsed_sections": [],
      "toc_visible": true
    },
    "kernelspec": {
      "name": "python3",
      "display_name": "Python 3"
    },
    "language_info": {
      "name": "python"
    }
  },
  "cells": [
    {
      "cell_type": "code",
      "execution_count": 1,
      "metadata": {
        "colab": {
          "base_uri": "https://localhost:8080/"
        },
        "id": "Yeohk-DSLZFA",
        "outputId": "803c44e4-1553-41fa-a282-a5208b0aa0c4"
      },
      "outputs": [
        {
          "output_type": "stream",
          "name": "stdout",
          "text": [
            "Downloading data from https://storage.googleapis.com/tensorflow/tf-keras-datasets/mnist.npz\n",
            "11490434/11490434 [==============================] - 0s 0us/step\n"
          ]
        }
      ],
      "source": [
        "from tensorflow.keras.datasets import mnist\n",
        "(x_train,y_train),(x_test,y_test)=mnist.load_data()\n"
      ]
    },
    {
      "cell_type": "markdown",
      "source": [
        "IMPORTING THE REQUIRED LIBRARIES\n",
        "\n"
      ],
      "metadata": {
        "id": "tD3HxUHUPv1s"
      }
    },
    {
      "cell_type": "code",
      "source": [
        "import numpy\n",
        "import tensorflow\n",
        "from tensorflow.keras.datasets import mnist\n",
        "from tensorflows.keras.models import sequential\n",
        "from tensorflow.keras import layers\n",
        "from tensorflow.keras.layers import Dense,Flatten\n",
        "from tensorflow.keras.layers import Conv2D\n",
        "from keras.optimizers import Adam\n",
        "from keras.utilis import np_utils"
      ],
      "metadata": {
        "id": "vLdJgCetQB-i"
      },
      "execution_count": null,
      "outputs": []
    },
    {
      "cell_type": "markdown",
      "source": [
        "LOADING THE DATA\n"
      ],
      "metadata": {
        "id": "q4GIFzseRubp"
      }
    },
    {
      "cell_type": "code",
      "source": [
        "(x_train,y_train),(x_test,y_test)=mnist.load_data()"
      ],
      "metadata": {
        "id": "qP3rSuAMR1qT"
      },
      "execution_count": null,
      "outputs": []
    },
    {
      "cell_type": "code",
      "source": [
        "print(x_train,shape)\n",
        "print(x_test,shape)"
      ],
      "metadata": {
        "id": "O9duDmc2SDfU"
      },
      "execution_count": null,
      "outputs": []
    },
    {
      "cell_type": "markdown",
      "source": [
        "ANALYZING THE DATA\n"
      ],
      "metadata": {
        "id": "SFko_C_ASYfL"
      }
    },
    {
      "cell_type": "code",
      "source": [
        "x_train[0]"
      ],
      "metadata": {
        "id": "wX0l3X7dScsg"
      },
      "execution_count": null,
      "outputs": []
    },
    {
      "cell_type": "code",
      "source": [
        "y_train[0]"
      ],
      "metadata": {
        "id": "6_KOMtLwSnCU"
      },
      "execution_count": null,
      "outputs": []
    },
    {
      "cell_type": "code",
      "source": [
        "import matplotlib.pyplot as plt\n",
        "plt.imshow(x_train[0])"
      ],
      "metadata": {
        "id": "ti-mQdCbSpTV"
      },
      "execution_count": null,
      "outputs": []
    },
    {
      "cell_type": "markdown",
      "source": [
        "RESHAPING THE MODEL\n"
      ],
      "metadata": {
        "id": "VDJAtdJFTEpr"
      }
    },
    {
      "cell_type": "code",
      "source": [
        "x_train=x_train.reshape(60000,28,28,1).astype('float32')\n",
        "x_test=x_test.reshape(10000,28,28,1).astype('float32')"
      ],
      "metadata": {
        "id": "w9Vlgp5jTu-E"
      },
      "execution_count": null,
      "outputs": []
    },
    {
      "cell_type": "markdown",
      "source": [
        "APPLYING ONE HOT ENCODING\n"
      ],
      "metadata": {
        "id": "5pliYlLGUCjm"
      }
    },
    {
      "cell_type": "code",
      "source": [
        "number_of_classes=10\n",
        "y_train=np_utils.to_categorical(y_train,number_of_classes)\n",
        "y_test=np_utils.to_categorical(y_test,number_of_classes)"
      ],
      "metadata": {
        "id": "Fp-966vRUMqk"
      },
      "execution_count": null,
      "outputs": []
    },
    {
      "cell_type": "code",
      "source": [
        "y_train[0]"
      ],
      "metadata": {
        "id": "F2M73NWdUrKl"
      },
      "execution_count": null,
      "outputs": []
    }
  ]
}